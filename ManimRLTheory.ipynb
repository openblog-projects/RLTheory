{
 "cells": [
  {
   "cell_type": "code",
   "execution_count": 1,
   "id": "2cd4cd6f",
   "metadata": {},
   "outputs": [
    {
     "data": {
      "text/html": [
       "<pre style=\"white-space:pre;overflow-x:auto;line-height:normal;font-family:Menlo,'DejaVu Sans Mono',consolas,'Courier New',monospace\">Manim Community <span style=\"color: #008000; text-decoration-color: #008000\">v0.15.1</span>\n",
       "\n",
       "</pre>\n"
      ],
      "text/plain": [
       "Manim Community \u001b[32mv0.\u001b[0m\u001b[32m15.1\u001b[0m\n",
       "\n"
      ]
     },
     "metadata": {},
     "output_type": "display_data"
    }
   ],
   "source": [
    "from manim import *\n",
    "\n",
    "config.media_width = \"75%\"\n",
    "config.verbosity = \"WARNING\""
   ]
  },
  {
   "cell_type": "markdown",
   "id": "511f6819",
   "metadata": {},
   "source": [
    "# 1"
   ]
  },
  {
   "cell_type": "code",
   "execution_count": 2,
   "id": "616af27b",
   "metadata": {},
   "outputs": [
    {
     "name": "stderr",
     "output_type": "stream",
     "text": [
      "<string>:44: DeprecationWarning: This method is not guaranteed to stay around. Please prefer getting the attribute normally.\n",
      "                                                                                \r"
     ]
    },
    {
     "data": {
      "text/html": [
       "<video src=\"media/jupyter/ScriptOne@2022-03-22@13-29-19.mp4\" controls autoplay loop style=\"max-width: 75%;\"  >\n",
       "      Your browser does not support the <code>video</code> element.\n",
       "    </video>"
      ],
      "text/plain": [
       "<IPython.core.display.Video object>"
      ]
     },
     "metadata": {},
     "output_type": "display_data"
    }
   ],
   "source": [
    "%%manim -qm ScriptOne\n",
    "\n",
    "class ScriptOne(MovingCameraScene):\n",
    "    def construct(self):\n",
    "        '''\n",
    "        goal is to zoom into RL\n",
    "        dann mache ich alles in einer method und +\n",
    "        i can do different methods and than call them\n",
    "        das verschwimmen von RL kann ich noch in die current function packen \n",
    "        1. verschwimmen von RL --> fade out with scale\n",
    "        2. new method with second script\n",
    "        \n",
    "        '''\n",
    "        \n",
    "        #Script 1\n",
    "        #creation of all the text\n",
    "        machineLearning = Text(\"Machine\\nLearning\", font_size=20)\n",
    "        reinforcementLearning = Text(\"Reinforcement\\nLearning\", font_size=20)\n",
    "        unsupervisedLearning = MarkupText(f'Unsupervised\\nLearning\\n\\n\\n\\n\\n\\n<span fgcolor=\"{BLACK}\">H</span>', color=WHITE, font_size=20)\n",
    "        supervisedLearning = MarkupText(f'Supervised\\nLearning\\n\\n\\n\\n\\n\\n<span fgcolor=\"{BLACK}\">H</span>', color=WHITE, font_size=20)\n",
    "        \n",
    "        #adding and positioning of text\n",
    "        reinforcementLearning.shift(DOWN*2)\n",
    "        \n",
    "        #creation of circles\n",
    "        circleOne = Circle(radius = 2.4, color=WHITE)\n",
    "        circleTwo = Circle(radius = 2.4, color=WHITE)\n",
    "        circleThree = Circle(radius = 2.4, color=WHITE)\n",
    "        circleFour = Circle(radius=3.8, color=WHITE)\n",
    "        \n",
    "        #positioning circles\n",
    "        circleOne.shift(LEFT, UP)\n",
    "        circleTwo.shift(DOWN*1.4)\n",
    "        circleThree.shift(RIGHT, UP)\n",
    "        \n",
    "        #make everything visible and play\n",
    "        self.play(FadeIn(circleOne), FadeIn(circleTwo), FadeIn(circleThree), FadeIn(circleFour), FadeIn(Group(unsupervisedLearning, supervisedLearning).arrange(LEFT*14)), FadeIn(machineLearning), FadeIn(reinforcementLearning))\n",
    "        \n",
    "        #wait one second\n",
    "        self.wait(2)\n",
    "        \n",
    "        #camera animation (zoom into RL)\n",
    "        self.camera.frame.save_state()\n",
    "        self.play(\n",
    "            self.camera.frame.animate.set_width(reinforcementLearning.get_width()*1.2).move_to(reinforcementLearning)\n",
    "        )\n",
    "        \n",
    "        self.wait()\n",
    "        \n",
    "        #remove RL with animation\n",
    "        self.play(FadeOut(reinforcementLearning))\n",
    "        \n",
    "        self.wait(1)"
   ]
  },
  {
   "cell_type": "markdown",
   "id": "f58eaa52",
   "metadata": {},
   "source": [
    "# 2"
   ]
  },
  {
   "cell_type": "code",
   "execution_count": 3,
   "id": "79a497c0",
   "metadata": {
    "scrolled": true
   },
   "outputs": [
    {
     "name": "stderr",
     "output_type": "stream",
     "text": [
      "<string>:36: DeprecationWarning: This method is not guaranteed to stay around. Please prefer getting the attribute normally.\n",
      "                                                                                \r"
     ]
    },
    {
     "data": {
      "text/html": [
       "<video src=\"media/jupyter/ScriptTwo@2022-03-22@13-29-20.mp4\" controls autoplay loop style=\"max-width: 75%;\"  >\n",
       "      Your browser does not support the <code>video</code> element.\n",
       "    </video>"
      ],
      "text/plain": [
       "<IPython.core.display.Video object>"
      ]
     },
     "metadata": {},
     "output_type": "display_data"
    }
   ],
   "source": [
    "%%manim -qm ScriptTwo\n",
    "class ScriptTwo(MovingCameraScene):\n",
    "    def construct(self):\n",
    "        \n",
    "        #define text objects\n",
    "        buildingBlocks = Text(\"Building Blocks\")\n",
    "        MarkovDecisionProcesses = Text(\"Markov Decision Processes\")\n",
    "        Policy = Text(\"Policy\")\n",
    "        ProximalPolicyOptimization = Text(\"Proximal Policy Optimization\")\n",
    "        \n",
    "        #positioning of text objects\n",
    "        buildingBlocks.shift(UP)\n",
    "        Policy.shift(DOWN)\n",
    "        ProximalPolicyOptimization.shift(DOWN*2)\n",
    "        \n",
    "        #group for animations\n",
    "        animations = [\n",
    "            FadeIn(buildingBlocks, scale=1.5),\n",
    "            FadeIn(MarkovDecisionProcesses, scale=1.5),\n",
    "            FadeIn(Policy, scale=1.5),\n",
    "            FadeIn(ProximalPolicyOptimization, scale=1.5)\n",
    "        ]\n",
    "        \n",
    "        #play animations\n",
    "        self.play(AnimationGroup(*animations, lag_ratio=1.5))\n",
    "        \n",
    "        self.wait(6.5)\n",
    "        \n",
    "        #remove text objects\n",
    "        self.remove(MarkovDecisionProcesses)\n",
    "        self.remove(Policy)\n",
    "        self.remove(ProximalPolicyOptimization)\n",
    "        \n",
    "        #camera animation (zoom into building blocks)\n",
    "        self.camera.frame.save_state()\n",
    "        self.play(\n",
    "            self.camera.frame.animate.set_width(buildingBlocks.get_width()*1.2).move_to(buildingBlocks)\n",
    "        )\n",
    "        \n",
    "        self.wait()\n",
    "        \n",
    "        #remove building blocks with animation\n",
    "        self.play(FadeOut(buildingBlocks))        "
   ]
  },
  {
   "cell_type": "markdown",
   "id": "2b197cb9",
   "metadata": {},
   "source": [
    "# 3 - 5"
   ]
  },
  {
   "cell_type": "code",
   "execution_count": 4,
   "id": "a3061913",
   "metadata": {},
   "outputs": [
    {
     "name": "stderr",
     "output_type": "stream",
     "text": [
      "                                                                                \r"
     ]
    },
    {
     "data": {
      "text/html": [
       "<video src=\"media/jupyter/ScriptThreeTillFive@2022-03-22@13-29-23.mp4\" controls autoplay loop style=\"max-width: 75%;\"  >\n",
       "      Your browser does not support the <code>video</code> element.\n",
       "    </video>"
      ],
      "text/plain": [
       "<IPython.core.display.Video object>"
      ]
     },
     "metadata": {},
     "output_type": "display_data"
    }
   ],
   "source": [
    "%%manim -qm ScriptThreeTillFive\n",
    "class ScriptThreeTillFive(MovingCameraScene):\n",
    "    def construct(self):\n",
    "        \n",
    "        #creation and config of agent\n",
    "        agent = ImageMobject(\"Agent.png\")\n",
    "        agent.scale(0.3)\n",
    "        agent.shift(UP*1.7)\n",
    "        arena = ImageMobject(\"Arena.png\")\n",
    "        arena.scale(0.3)\n",
    "\n",
    "        #creation and config of agent\n",
    "        arena.shift(DOWN*2)        \n",
    "        animations = [\n",
    "            FadeIn(agent, scale=0.3),\n",
    "            FadeIn(arena, scale=0.3)\n",
    "        ]\n",
    "        self.play(AnimationGroup(*animations, lag_ratio=2.5))\n",
    "        self.wait(1.5)\n",
    "        \n",
    "        #configuration for arrow left \n",
    "        arrowLeft = [Arrow(1.5 * LEFT, 1.5 * RIGHT), Arrow(1.5 * DR, 1.5 * UL)]\n",
    "        VGroup(*arrowLeft).set_x(0).arrange(DOWN * 2.5 + RIGHT * 6)\n",
    "        self.play(GrowArrow(arrowLeft[0]))\n",
    "        \n",
    "        #tex and text around left arrow\n",
    "        observation = Text(\"observation\", font_size = 30)\n",
    "        observation.shift(LEFT*2.3, UP*2)\n",
    "        self.add(observation)\n",
    "        test = FadeIn(observation, scale=1.5)\n",
    "        self.play(test, lag_ratio=1)\n",
    "        self.wait(1)\n",
    "        tex = MathTex(\"O_t\", font_size=30)\n",
    "        tex.shift(LEFT*2.3, UP*1.3)\n",
    "        self.add(tex)\n",
    "        texTwo = FadeIn(tex, scale=1.5)\n",
    "        self.play(texTwo, lag_ratio=1)\n",
    "        self.wait(5)\n",
    "        \n",
    "        #configuration for arrow right\n",
    "        arrowRight = [Arrow(1.5 * RIGHT, 1.5 * LEFT), Arrow(1.5 * DR, 1.5 * UL)]\n",
    "        VGroup(*arrowRight).set_x(0).arrange(DOWN * 2.5 + LEFT * 6)\n",
    "        self.play(GrowArrow(arrowRight[0]))\n",
    "        \n",
    "        #tex and text around right arrow\n",
    "        action = Text(\"action\", font_size = 30)\n",
    "        action.shift(RIGHT*2.3, UP*2)\n",
    "        self.add(action)\n",
    "        actionTwo = FadeIn(action, scale=1.5)\n",
    "        self.play(actionTwo, lag_ratio=1)\n",
    "        self.wait(1)\n",
    "        texAction = MathTex(\"A_t\", font_size=30)\n",
    "        texAction.shift(RIGHT*2.3, UP*1.3)\n",
    "        self.add(texAction)\n",
    "        texActionTwo = FadeIn(texAction, scale=1.5)\n",
    "        self.play(texActionTwo, lag_ratio=1)\n",
    "        self.wait(1)     \n",
    "        \n",
    "        #configuration for arrow down\n",
    "        arrowDown = [Arrow(1 * DOWN, 1 * UP), Arrow(1.5 * DR, 1.5 * UL)]\n",
    "        VGroup(*arrowDown).set_x(0)\n",
    "        self.play(GrowArrow(arrowDown[0]))\n",
    "        \n",
    "        #tex and text around down arrow\n",
    "        reward = Text(\"reward\", font_size = 30)\n",
    "        reward.shift(LEFT*1)\n",
    "        self.add(reward)\n",
    "        rewardTwo = FadeIn(reward, scale=1.5)\n",
    "        self.play(rewardTwo, lag_ratio=1)\n",
    "        self.wait(1)\n",
    "        texO_t = MathTex(\"R_t\", font_size=30)\n",
    "        texO_t.shift(RIGHT*0.6)\n",
    "        self.add(texO_t)\n",
    "        texO_tTwo = FadeIn(texO_t, scale=1.5)\n",
    "        self.play(texO_tTwo, lag_ratio=1)\n",
    "        self.wait(1)\n",
    "        \n",
    "        #remove everything besides latex\n",
    "        for i,j in arrowRight, arrowLeft:\n",
    "            self.remove(i)\n",
    "            self.remove(j)\n",
    "        for i in arrowDown:\n",
    "            self.remove(i)\n",
    "        self.play(FadeOut(agent), FadeOut(arena), FadeOut(action), FadeOut(reward), FadeOut(observation))\n",
    "            \n",
    "        #all variables for creating equation of history    \n",
    "        history = MathTex(\n",
    "            \"H_t\",\n",
    "            \"=\",\n",
    "            \"A_t,\",\n",
    "            \"O_t,\",\n",
    "            \"R_t\"\n",
    "        )\n",
    "        \n",
    "        #make history bigger and increase buffer between latex\n",
    "        history.scale(2)\n",
    "\n",
    "        #write history till =\n",
    "        self.play(Write(history[0:2]))\n",
    "        \n",
    "        #move latex from first view in history\n",
    "        self.play(\n",
    "            ReplacementTransform(texAction, history[2]),\n",
    "            ReplacementTransform(texO_t, history[3]),\n",
    "            ReplacementTransform(tex, history[4])\n",
    "        )\n",
    "        self.wait(1)        \n",
    "        \n",
    "        #latex for all state variables\n",
    "        state = MathTex(\n",
    "            \"S_t\",\n",
    "            \"=\",\n",
    "            \"f(H_t)\"\n",
    "        )\n",
    "        state.scale(2)\n",
    "        state.shift(DOWN*2)\n",
    "        self.play(Write(state[0:2]))\n",
    "        self.wait(1)\n",
    "        self.play(\n",
    "            ReplacementTransform(history[0], state[2])\n",
    "        )\n",
    "        self.play(FadeOut(history))\n",
    "        state.move_to(UP*-0.1)\n",
    "        self.add(state)\n",
    "\n",
    "        self.wait(1)\n",
    "        \n",
    "        #remove state\n",
    "        self.play(FadeOut(state))\n",
    "        self.wait(1)"
   ]
  },
  {
   "cell_type": "markdown",
   "id": "5171f742",
   "metadata": {},
   "source": [
    "# 6 - 7"
   ]
  },
  {
   "cell_type": "code",
   "execution_count": 5,
   "id": "e733e92d",
   "metadata": {
    "scrolled": true
   },
   "outputs": [
    {
     "name": "stderr",
     "output_type": "stream",
     "text": [
      "                                                                                \r"
     ]
    },
    {
     "data": {
      "text/html": [
       "<video src=\"media/jupyter/ScriptSixTillSeven@2022-03-22@13-29-25.mp4\" controls autoplay loop style=\"max-width: 75%;\"  >\n",
       "      Your browser does not support the <code>video</code> element.\n",
       "    </video>"
      ],
      "text/plain": [
       "<IPython.core.display.Video object>"
      ]
     },
     "metadata": {},
     "output_type": "display_data"
    }
   ],
   "source": [
    "%%manim -qm ScriptSixTillSeven\n",
    "class ScriptSixTillSeven(MovingCameraScene):\n",
    "    def construct(self):\n",
    "        #creation and removing of headline\n",
    "        MarkovDecisionProcesses = Text(\"Markov Decision Processes\")\n",
    "        MarkovDecisionProcesses.scale(1)\n",
    "        self.play(FadeIn(MarkovDecisionProcesses))\n",
    "        self.wait(6)\n",
    "        self.play(FadeOut(MarkovDecisionProcesses))\n",
    "        \n",
    "        #creation and removing of latex\n",
    "        state = MathTex(\n",
    "            \"1. S\",\n",
    "            \"=(S_1, ..., S_t)\"            \n",
    "        )\n",
    "        \n",
    "        action = MathTex(\n",
    "            \"2. A\",\n",
    "            \"=(A_1, ..., A_t)\"\n",
    "        )\n",
    "        \n",
    "        probability = MathTex(\n",
    "            \"3. P\",\n",
    "            \"=\\mathbb{P}(S_{t+1}|A_t, S_t)\"\n",
    "        )\n",
    "        \n",
    "        reward = MathTex(\n",
    "            \"4. R\",\n",
    "            \"=(S_t, A_t, S_{t+1})\"\n",
    "        )\n",
    "        \n",
    "        state.scale(2)\n",
    "        action.scale(2)\n",
    "        probability.scale(2)\n",
    "        reward.scale(2)\n",
    "        \n",
    "        state.shift(UP*1.3)\n",
    "        probability.shift(DOWN*1.3)\n",
    "        reward.shift(DOWN*2.6)\n",
    "        \n",
    "        self.play(Write(state[0]))\n",
    "        self.wait(2)\n",
    "        self.play(Write(state[1]))\n",
    "        self.wait(2)\n",
    "        \n",
    "        self.play(Write(action[0]))\n",
    "        self.wait(2)\n",
    "        self.play(Write(action[1]))\n",
    "        self.wait(2)\n",
    "\n",
    "        self.play(Write(probability[0]))\n",
    "        self.wait(2)\n",
    "        self.play(Write(probability[1]))\n",
    "        self.wait(3)\n",
    "\n",
    "        self.play(Write(reward[0]))\n",
    "        self.wait(2)\n",
    "        self.play(Write(reward[1]))\n",
    "        self.wait(4)\n",
    "        \n",
    "        self.play(FadeOut(state), FadeOut(action), FadeOut(probability), FadeOut(reward))\n",
    "        self.wait(1)"
   ]
  },
  {
   "cell_type": "code",
   "execution_count": 6,
   "id": "440ea850",
   "metadata": {},
   "outputs": [
    {
     "name": "stderr",
     "output_type": "stream",
     "text": [
      "                                                                                \r"
     ]
    },
    {
     "data": {
      "text/html": [
       "<video src=\"media/jupyter/ScriptEightTillNine@2022-03-22@13-29-26.mp4\" controls autoplay loop style=\"max-width: 75%;\"  >\n",
       "      Your browser does not support the <code>video</code> element.\n",
       "    </video>"
      ],
      "text/plain": [
       "<IPython.core.display.Video object>"
      ]
     },
     "metadata": {},
     "output_type": "display_data"
    }
   ],
   "source": [
    "%%manim -qm ScriptEightTillNine\n",
    "class ScriptEightTillNine(Scene):\n",
    "    def construct(self):\n",
    "        #creation and removing of headline\n",
    "        policy = Text(\"Policy\")\n",
    "        policy.scale(1)\n",
    "        self.play(FadeIn(policy))\n",
    "        self.wait(3)\n",
    "        self.play(FadeOut(policy))\n",
    "        \n",
    "        policyLatex = MathTex(\n",
    "            \"\\pi\",\n",
    "            \"=\\mathbb{P}(A_t|S_t)\"            \n",
    "        )\n",
    "        policyLatex.scale(2)\n",
    "        self.play(Write(policyLatex[0]))\n",
    "        self.wait(4)\n",
    "        self.play(Write(policyLatex[1]))\n",
    "        self.wait(3)\n",
    "        \n",
    "        self.wait(1)\n",
    "        self.play(FadeOut(policyLatex))\n",
    "        \n",
    "        \n",
    "        "
   ]
  },
  {
   "cell_type": "code",
   "execution_count": 13,
   "id": "32ca1d7f",
   "metadata": {
    "scrolled": true
   },
   "outputs": [
    {
     "name": "stderr",
     "output_type": "stream",
     "text": [
      "                                                                                \r"
     ]
    },
    {
     "data": {
      "text/html": [
       "<video src=\"media/jupyter/ScriptTenTillEleven@2022-03-22@15-10-53.mp4\" controls autoplay loop style=\"max-width: 75%;\"  >\n",
       "      Your browser does not support the <code>video</code> element.\n",
       "    </video>"
      ],
      "text/plain": [
       "<IPython.core.display.Video object>"
      ]
     },
     "metadata": {},
     "output_type": "display_data"
    }
   ],
   "source": [
    "\n",
    "%%manim -qm ScriptTenTillEleven\n",
    "class ScriptTenTillEleven(Scene):\n",
    "    def construct(self):\n",
    "\n",
    "        #creation and removing of headline\n",
    "        ProximalPolicyOptimization = Text(\"Proximal Policy Optimization\")\n",
    "        ProximalPolicyOptimization.scale(1)\n",
    "        self.play(FadeIn(ProximalPolicyOptimization))\n",
    "        self.wait(4)\n",
    "        self.play(FadeOut(ProximalPolicyOptimization))\n",
    "        \n",
    "        ppoStart = MathTex(\n",
    "            r\"L^{CLIP}(\\theta)\",\n",
    "            r\"=\",\n",
    "            r\"\\hat{\\mathop{\\mathbb{E}}}_t\",\n",
    "            r\"\\left[\",\n",
    "            r\"\\min\",\n",
    "            r\"(\",\n",
    "            r\"r_t(\\theta)\",\n",
    "            r\"\\hat{A_t}\",\n",
    "            r\",\",\n",
    "            r\"\\text{clip}\",\n",
    "            r\"(\",\n",
    "            r\"r_t(\\theta)\",\n",
    "            r\",\",\n",
    "            r\"1-\\epsilon, 1+\\epsilon\",\n",
    "            r\")\",\n",
    "            r\"\\hat{A_t}\",\n",
    "            r\")\",\n",
    "            r\"\\right]\",\n",
    "        )\n",
    "        self.play(Write(ppoStart))\n",
    "        self.wait(2)\n",
    "        self.play(FadeOut(ppoStart))\n",
    "        \n",
    "        #all elements for the ppo long\n",
    "        ppo = MathTex(\n",
    "            r\"L^{CLIP}(\\theta)\",\n",
    "            r\"=\",\n",
    "            r\"\\hat{\\mathop{\\mathbb{E}}}_t\",\n",
    "            r\"\\left[\",\n",
    "            r\"\\min\",\n",
    "            r\"(\",\n",
    "            r\"\\frac{\\pi_{\\theta(a_t|S_t)}}{\\pi_{\\theta_{old}(a_t|S_t)}}\",\n",
    "            r\"\\hat{A_t}\",\n",
    "            r\",\",\n",
    "            r\"\\text{clip}\",\n",
    "            r\"(\",\n",
    "            r\"\\frac{\\pi_{\\theta(a_t|S_t)}}{\\pi_{\\theta_{old}(a_t|S_t)}}\",\n",
    "            r\",\",\n",
    "            r\"1-\\epsilon, 1+\\epsilon\",\n",
    "            r\")\",\n",
    "            r\"\\hat{A_t}\",\n",
    "            r\")\",\n",
    "            r\"\\right]\",\n",
    "        )\n",
    "        \n",
    "        #set all variables red from the beginning \n",
    "        ppo.set_color(RED)\n",
    "        ppo.scale(0.8)\n",
    "        \n",
    "        #set all not letters white\n",
    "        ppo[1].set_color(WHITE)\n",
    "        ppo[3].set_color(WHITE)\n",
    "        ppo[5].set_color(WHITE)\n",
    "        ppo[8].set_color(WHITE)\n",
    "        ppo[10].set_color(WHITE)\n",
    "        ppo[12].set_color(WHITE)\n",
    "        ppo[14].set_color(WHITE)\n",
    "        ppo[16].set_color(WHITE)\n",
    "        ppo[17].set_color(WHITE)\n",
    "        \n",
    "        #write and color everything\n",
    "        self.play(Write(ppo[0]))\n",
    "        self.wait(5)\n",
    "        self.play(ppo[0].animate.set_color(WHITE))\n",
    "        self.play(Write(ppo[1]))\n",
    "        self.play(Write(ppo[2]))\n",
    "        self.play(Write(ppo[3]))\n",
    "        self.play(Write(ppo[17]))\n",
    "        self.wait(2)\n",
    "        self.play(ppo[2].animate.set_color(WHITE))\n",
    "        self.play(Write(ppo[4]))\n",
    "        self.play(Write(ppo[5]))\n",
    "        self.play(Write(ppo[16]))\n",
    "        self.wait(2)\n",
    "        self.play(ppo[4].animate.set_color(WHITE))\n",
    "        self.play(Write(ppo[6]))\n",
    "        self.play(Write(ppo[8]))\n",
    "        self.play(Write(ppo[11]))\n",
    "        self.wait(3)\n",
    "        self.play(ppo[6].animate.set_color(WHITE))\n",
    "        self.play(ppo[11].animate.set_color(WHITE))\n",
    "        self.play(Write(ppo[7]))\n",
    "        self.play(Write(ppo[15]))\n",
    "        self.wait(2)\n",
    "        self.play(ppo[7].animate.set_color(WHITE))\n",
    "        self.play(ppo[15].animate.set_color(WHITE))\n",
    "        self.play(Write(ppo[9]))\n",
    "        self.play(Write(ppo[10]))\n",
    "        self.play(Write(ppo[14]))\n",
    "        self.wait(2)\n",
    "        self.play(ppo[9].animate.set_color(WHITE))\n",
    "        self.play(Write(ppo[12]))\n",
    "        self.play(Write(ppo[13]))\n",
    "        self.wait(12)\n",
    "        self.play(ppo[13].animate.set_color(WHITE))\n",
    "        self.wait(1)\n",
    "        self.play(ppo[6].animate.set_color(RED))\n",
    "        self.play(ppo[11].animate.set_color(RED))\n",
    "        self.wait(1)\n",
    "        ppoStart[6].set_color(RED)\n",
    "        ppoStart[11].set_color(RED)\n",
    "        self.play(Transform(ppo, ppoStart))\n",
    "        self.wait(2)\n",
    "        self.play(ppoStart[6].animate.set_color(WHITE))\n",
    "        self.play(ppoStart[11].animate.set_color(WHITE))\n",
    "        self.wait(3)\n",
    "        self.play(ppoStart[6:-2].animate.set_color(YELLOW))\n",
    "        self.wait(3)\n",
    "        self.play(ppoStart[4:6].animate.set_color(GREEN))\n",
    "        self.play(ppoStart[-2].animate.set_color(GREEN))\n",
    "        self.wait(3)\n",
    "        self.play(ppoStart[2:4].animate.set_color(BLUE))\n",
    "        self.play(ppoStart[-1].animate.set_color(BLUE))\n",
    "        self.wait(3)\n",
    "        self.play(ppoStart[0:2].animate.set_color(RED))\n",
    "        self.wait(3)\n",
    "        self.play(FadeOut(ppo))\n",
    "        \n",
    "    "
   ]
  },
  {
   "cell_type": "code",
   "execution_count": null,
   "id": "aadd2100",
   "metadata": {},
   "outputs": [],
   "source": []
  }
 ],
 "metadata": {
  "kernelspec": {
   "display_name": "Python 3 (ipykernel)",
   "language": "python",
   "name": "python3"
  },
  "language_info": {
   "codemirror_mode": {
    "name": "ipython",
    "version": 3
   },
   "file_extension": ".py",
   "mimetype": "text/x-python",
   "name": "python",
   "nbconvert_exporter": "python",
   "pygments_lexer": "ipython3",
   "version": "3.9.7"
  }
 },
 "nbformat": 4,
 "nbformat_minor": 5
}
