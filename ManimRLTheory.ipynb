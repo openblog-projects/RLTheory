{
 "cells": [
  {
   "cell_type": "code",
   "execution_count": 2,
   "id": "2cd4cd6f",
   "metadata": {},
   "outputs": [
    {
     "data": {
      "text/html": [
       "<pre style=\"white-space:pre;overflow-x:auto;line-height:normal;font-family:Menlo,'DejaVu Sans Mono',consolas,'Courier New',monospace\">Manim Community <span style=\"color: #008000; text-decoration-color: #008000\">v0.15.1</span>\n",
       "\n",
       "</pre>\n"
      ],
      "text/plain": [
       "Manim Community \u001b[32mv0.\u001b[0m\u001b[32m15.1\u001b[0m\n",
       "\n"
      ]
     },
     "metadata": {},
     "output_type": "display_data"
    }
   ],
   "source": [
    "from manim import *\n",
    "\n",
    "config.media_width = \"75%\"\n",
    "config.verbosity = \"WARNING\""
   ]
  },
  {
   "cell_type": "markdown",
   "id": "511f6819",
   "metadata": {},
   "source": [
    "# 1"
   ]
  },
  {
   "cell_type": "code",
   "execution_count": 208,
   "id": "616af27b",
   "metadata": {},
   "outputs": [
    {
     "name": "stderr",
     "output_type": "stream",
     "text": [
      "<string>:47: DeprecationWarning: This method is not guaranteed to stay around. Please prefer getting the attribute normally.\n",
      "                                                                                \r"
     ]
    },
    {
     "data": {
      "text/html": [
       "<video src=\"media/jupyter/ScriptOne@2022-03-18@11-44-36.mp4\" controls autoplay loop style=\"max-width: 75%;\"  >\n",
       "      Your browser does not support the <code>video</code> element.\n",
       "    </video>"
      ],
      "text/plain": [
       "<IPython.core.display.Video object>"
      ]
     },
     "metadata": {},
     "output_type": "display_data"
    }
   ],
   "source": [
    "%%manim -qm ScriptOne\n",
    "\n",
    "class ScriptOne(MovingCameraScene):\n",
    "    def construct(self):\n",
    "        '''\n",
    "        goal is to zoom into RL\n",
    "        dann mache ich alles in einer method und +\n",
    "        i can do different methods and than call them\n",
    "        das verschwimmen von RL kann ich noch in die current function packen \n",
    "        1. verschwimmen von RL --> fade out with scale\n",
    "        2. new method with second script\n",
    "        \n",
    "        '''\n",
    "        \n",
    "        #Script 1\n",
    "        #creation of all the text\n",
    "        machineLearning = Text(\"Machine\\nLearning\", font_size=20)\n",
    "        reinforcementLearning = Text(\"Reinforcement\\nLearning\", font_size=20)\n",
    "        unsupervisedLearning = MarkupText(f'Unsupervised\\nLearning\\n\\n\\n\\n\\n\\n<span fgcolor=\"{BLACK}\">H</span>', color=WHITE, font_size=20)\n",
    "        supervisedLearning = MarkupText(f'Supervised\\nLearning\\n\\n\\n\\n\\n\\n<span fgcolor=\"{BLACK}\">H</span>', color=WHITE, font_size=20)\n",
    "        \n",
    "        #adding and positioning of text\n",
    "        reinforcementLearning.shift(DOWN*2)\n",
    "        self.add(reinforcementLearning)\n",
    "        self.add(machineLearning)\n",
    "        self.add(Group(unsupervisedLearning, supervisedLearning).arrange(LEFT*14))\n",
    "        \n",
    "        #creation of circles\n",
    "        circleOne = Circle(radius = 2.4, color=WHITE)\n",
    "        circleTwo = Circle(radius = 2.4, color=WHITE)\n",
    "        circleThree = Circle(radius = 2.4, color=WHITE)\n",
    "        circleFour = Circle(radius=3.8, color=WHITE)\n",
    "        \n",
    "        #positioning circles\n",
    "        circleOne.shift(LEFT, UP)\n",
    "        circleTwo.shift(DOWN*1.4)\n",
    "        circleThree.shift(RIGHT, UP)\n",
    "        \n",
    "        #adding circles\n",
    "        self.add(circleOne, circleTwo, circleThree, circleFour)\n",
    "        \n",
    "        #wait one second\n",
    "        self.wait(1)\n",
    "        \n",
    "        #camera animation (zoom into RL)\n",
    "        self.camera.frame.save_state()\n",
    "        self.play(\n",
    "            self.camera.frame.animate.set_width(reinforcementLearning.get_width()*1.2).move_to(reinforcementLearning)\n",
    "        )\n",
    "        \n",
    "        self.wait()\n",
    "        \n",
    "        #remove RL with animation\n",
    "        self.play(FadeOut(reinforcementLearning))\n",
    "        \n",
    "        self.wait(1)"
   ]
  },
  {
   "cell_type": "markdown",
   "id": "f58eaa52",
   "metadata": {},
   "source": [
    "# 2"
   ]
  },
  {
   "cell_type": "code",
   "execution_count": 257,
   "id": "79a497c0",
   "metadata": {
    "scrolled": true
   },
   "outputs": [
    {
     "name": "stderr",
     "output_type": "stream",
     "text": [
      "<string>:36: DeprecationWarning: This method is not guaranteed to stay around. Please prefer getting the attribute normally.\n",
      "                                                                                \r"
     ]
    },
    {
     "data": {
      "text/html": [
       "<video src=\"media/jupyter/ScriptTwo@2022-03-18@13-10-14.mp4\" controls autoplay loop style=\"max-width: 75%;\"  >\n",
       "      Your browser does not support the <code>video</code> element.\n",
       "    </video>"
      ],
      "text/plain": [
       "<IPython.core.display.Video object>"
      ]
     },
     "metadata": {},
     "output_type": "display_data"
    }
   ],
   "source": [
    "%%manim -qm ScriptTwo\n",
    "class ScriptTwo(MovingCameraScene):\n",
    "    def construct(self):\n",
    "        \n",
    "        #define text objects\n",
    "        buildingBlocks = Text(\"Building Blocks\")\n",
    "        MarkovDecisionProcesses = Text(\"Markov Decision Processes\")\n",
    "        Policy = Text(\"Policy\")\n",
    "        ProximalPolicyOptimization = Text(\"Proximal Policy Optimization\")\n",
    "        \n",
    "        #positioning of text objects\n",
    "        buildingBlocks.shift(UP)\n",
    "        Policy.shift(DOWN)\n",
    "        ProximalPolicyOptimization.shift(DOWN*2)\n",
    "        \n",
    "        #group for animations\n",
    "        animations = [\n",
    "            FadeIn(buildingBlocks, scale=1.5),\n",
    "            FadeIn(MarkovDecisionProcesses, scale=1.5),\n",
    "            FadeIn(Policy, scale=1.5),\n",
    "            FadeIn(ProximalPolicyOptimization, scale=1.5)\n",
    "        ]\n",
    "        \n",
    "        #play animations\n",
    "        self.play(AnimationGroup(*animations, lag_ratio=0.5))\n",
    "        \n",
    "        self.wait(2.5)\n",
    "        \n",
    "        #remove text objects\n",
    "        self.remove(MarkovDecisionProcesses)\n",
    "        self.remove(Policy)\n",
    "        self.remove(ProximalPolicyOptimization)\n",
    "        \n",
    "        #camera animation (zoom into building blocks)\n",
    "        self.camera.frame.save_state()\n",
    "        self.play(\n",
    "            self.camera.frame.animate.set_width(buildingBlocks.get_width()*1.2).move_to(buildingBlocks)\n",
    "        )\n",
    "        \n",
    "        self.wait()\n",
    "        \n",
    "        #remove building blocks with animation\n",
    "        self.play(FadeOut(buildingBlocks))        "
   ]
  },
  {
   "cell_type": "markdown",
   "id": "2b197cb9",
   "metadata": {},
   "source": [
    "# 3 - 5"
   ]
  },
  {
   "cell_type": "code",
   "execution_count": 363,
   "id": "a3061913",
   "metadata": {},
   "outputs": [
    {
     "name": "stderr",
     "output_type": "stream",
     "text": [
      "                                                                                \r"
     ]
    },
    {
     "data": {
      "text/html": [
       "<video src=\"media/jupyter/ScriptThreeTillFive@2022-03-18@15-24-47.mp4\" controls autoplay loop style=\"max-width: 75%;\"  >\n",
       "      Your browser does not support the <code>video</code> element.\n",
       "    </video>"
      ],
      "text/plain": [
       "<IPython.core.display.Video object>"
      ]
     },
     "metadata": {},
     "output_type": "display_data"
    }
   ],
   "source": [
    "%%manim -qm ScriptThreeTillFive\n",
    "class ScriptThreeTillFive(MovingCameraScene):\n",
    "    def construct(self):\n",
    "        '''\n",
    "        1. fade in of screen from agent\n",
    "        2. fade in environment unity \n",
    "        3. fade in observations arrow and Ot\n",
    "        4.\n",
    "        5. \n",
    "        6. Sick transform to histroy equation\n",
    "        7. Sick transform to St equation \n",
    "        8. Fade out and done\n",
    "        '''\n",
    "        agent = ImageMobject(\"Agent.png\")\n",
    "\n",
    "        agent.scale(0.3)\n",
    "        agent.shift(UP*1.5)\n",
    "        arena = ImageMobject(\"Arena.png\")\n",
    "        arena.scale(0.3)\n",
    "\n",
    "        arena.shift(DOWN*1.5)\n",
    "\n",
    "        #self.add(agent)\n",
    "        #self.add(arena)\n",
    "        \n",
    "        animations = [\n",
    "            FadeIn(agent, scale=0.3),\n",
    "            FadeIn(arena, scale=0.3)\n",
    "        ]\n",
    "        \n",
    "        #play animations\n",
    "        self.play(AnimationGroup(*animations, lag_ratio=1.5))\n",
    "        \n",
    "        \n",
    "        arrows = [Arrow(1 * LEFT, 1 * RIGHT), Arrow(1.5 * DR, 1.5 * UL)]\n",
    "        VGroup(*arrows).set_x(0).arrange(DOWN + RIGHT * 3)\n",
    "        self.play(GrowArrow(arrows[0]))\n",
    "        \n",
    "        \n",
    "        observation = Text(\"observation\", font_size = 20)\n",
    "        observation.shift(LEFT*2, UP*1.7)\n",
    "        \n",
    "        self.add(observation)\n",
    "        \n",
    "        test = FadeIn(observation, scale=1.5)\n",
    "        self.play(test, lag_ratio=1)\n",
    "        \n",
    "        self.wait(1)\n",
    "        \n",
    "        tex = MathTex(\"O_t\", font_size=20)\n",
    "        tex.shift(LEFT*2, UP*1.4)\n",
    "        self.add(tex)\n",
    "        \n",
    "        texTwo = FadeIn(tex, scale=1.5)\n",
    "        self.play(texTwo, lag_ratio=1)\n",
    "        \n",
    "        self.wait(1)\n",
    "        \n",
    "        \n",
    "        \n",
    "        \n",
    "        \n",
    "        \n",
    "        \n",
    "        '''\n",
    "        #Script 1\n",
    "        #creation of all the text\n",
    "        machineLearning = Text(\"Machine\\nLearning\", font_size=20)\n",
    "        reinforcementLearning = Text(\"Reinforcement\\nLearning\", font_size=20)\n",
    "        unsupervisedLearning = MarkupText(f'Unsupervised\\nLearning\\n\\n\\n\\n\\n\\n<span fgcolor=\"{BLACK}\">H</span>', color=WHITE, font_size=20)\n",
    "        supervisedLearning = MarkupText(f'Supervised\\nLearning\\n\\n\\n\\n\\n\\n<span fgcolor=\"{BLACK}\">H</span>', color=WHITE, font_size=20)\n",
    "        \n",
    "        #adding and positioning of text\n",
    "        reinforcementLearning.shift(DOWN*2)\n",
    "        self.add(reinforcementLearning)\n",
    "        self.add(machineLearning)\n",
    "        self.add(Group(unsupervisedLearning, supervisedLearning).arrange(LEFT*14))\n",
    "        \n",
    "        #creation of circles\n",
    "        circleOne = Circle(radius = 2.4, color=WHITE)\n",
    "        circleTwo = Circle(radius = 2.4, color=WHITE)\n",
    "        circleThree = Circle(radius = 2.4, color=WHITE)\n",
    "        circleFour = Circle(radius=3.8, color=WHITE)\n",
    "        \n",
    "        #positioning circles\n",
    "        circleOne.shift(LEFT, UP)\n",
    "        circleTwo.shift(DOWN*1.4)\n",
    "        circleThree.shift(RIGHT, UP)'''\n",
    "        \n",
    "        "
   ]
  },
  {
   "cell_type": "markdown",
   "id": "45ba5462",
   "metadata": {},
   "source": [
    "$LaTeX$"
   ]
  },
  {
   "cell_type": "code",
   "execution_count": 362,
   "id": "e3dd2a61",
   "metadata": {},
   "outputs": [
    {
     "data": {
      "image/png": "[encoded data removed]",
      "text/plain": [
       "<IPython.core.display.Image object>"
      ]
     },
     "metadata": {},
     "output_type": "display_data"
    }
   ],
   "source": [
    "\n",
    "%%manim -qm MathTeXDemo\n",
    "class MathTeXDemo(Scene):\n",
    "    def construct(self):\n",
    "        rtarrow0 = MathTex(r\"O_t\", font_size=96)\n",
    "        rtarrow1 = Tex(r\"$\\xrightarrow{x^6y^8}$\", font_size=96)\n",
    "\n",
    "        self.add(VGroup(rtarrow0, rtarrow1).arrange(DOWN))"
   ]
  },
  {
   "cell_type": "code",
   "execution_count": null,
   "id": "c8ebcb27",
   "metadata": {},
   "outputs": [],
   "source": []
  }
 ],
 "metadata": {
  "kernelspec": {
   "display_name": "Python 3 (ipykernel)",
   "language": "python",
   "name": "python3"
  },
  "language_info": {
   "codemirror_mode": {
    "name": "ipython",
    "version": 3
   },
   "file_extension": ".py",
   "mimetype": "text/x-python",
   "name": "python",
   "nbconvert_exporter": "python",
   "pygments_lexer": "ipython3",
   "version": "3.9.7"
  }
 },
 "nbformat": 4,
 "nbformat_minor": 5
}
