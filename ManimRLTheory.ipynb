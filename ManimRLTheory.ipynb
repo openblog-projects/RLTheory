{
 "cells": [
  {
   "cell_type": "code",
   "execution_count": 2,
   "id": "2cd4cd6f",
   "metadata": {},
   "outputs": [
    {
     "data": {
      "text/html": [
       "<pre style=\"white-space:pre;overflow-x:auto;line-height:normal;font-family:Menlo,'DejaVu Sans Mono',consolas,'Courier New',monospace\">Manim Community <span style=\"color: #008000; text-decoration-color: #008000\">v0.15.1</span>\n",
       "\n",
       "</pre>\n"
      ],
      "text/plain": [
       "Manim Community \u001b[32mv0.\u001b[0m\u001b[32m15.1\u001b[0m\n",
       "\n"
      ]
     },
     "metadata": {},
     "output_type": "display_data"
    }
   ],
   "source": [
    "from manim import *\n",
    "\n",
    "config.media_width = \"75%\"\n",
    "config.verbosity = \"WARNING\""
   ]
  },
  {
   "cell_type": "markdown",
   "id": "511f6819",
   "metadata": {},
   "source": [
    "# 1"
   ]
  },
  {
   "cell_type": "code",
   "execution_count": 9,
   "id": "cfe03ce7",
   "metadata": {},
   "outputs": [
    {
     "name": "stderr",
     "output_type": "stream",
     "text": [
      "                                                                                \r"
     ]
    },
    {
     "data": {
      "text/html": [
       "<video src=\"media/jupyter/FourCircles@2022-03-17@11-09-15.mp4\" controls autoplay loop style=\"max-width: 75%;\"  >\n",
       "      Your browser does not support the <code>video</code> element.\n",
       "    </video>"
      ],
      "text/plain": [
       "<IPython.core.display.Video object>"
      ]
     },
     "metadata": {},
     "output_type": "display_data"
    }
   ],
   "source": [
    "%%manim -qm FourCircles\n",
    "\n",
    "#defines a Manim scene called FourCircles\n",
    "class FourCircles(Scene):\n",
    "    #executes the content from\n",
    "    def construct(self):\n",
    "        circleOne = Circle(color=WHITE, fill_opacity=0.5)\n",
    "        circleTwo = Circle(color=WHITE, fill_opacity=0.5)\n",
    "        circleThree = Circle(color=WHITE, fill_opacity=0.5)\n",
    "        circleFour = Circle(color=WHITE, fill_opacity=0.5)\n",
    "        \n",
    "        labelSupervisewdLearning = Text(\"Supervised learning\")\n",
    "        labelSupervisewdLearning = Text(\"Machine learning\")\n",
    "        labelSupervisewdLearning = Text(\"Unsupervised learning\")\n",
    "        labelSupervisewdLearning = Text(\"Reinforcement learning\")\n",
    "        \n",
    "        \n",
    "        self.play(Create(circleOne))\n",
    "        self.play(Create(circleTwo))\n",
    "        self.play(Create(circleThree))\n",
    "        self.play(Create(circleFour))\n",
    "        self.wait()\n",
    "        \n",
    "    def bigCircle()\n",
    "        \n",
    "        \n",
    "    \n",
    "    "
   ]
  },
  {
   "cell_type": "code",
   "execution_count": 50,
   "id": "616af27b",
   "metadata": {},
   "outputs": [
    {
     "data": {
      "text/html": [
       "<video src=\"media/jupyter/AlignToTest@2022-03-17@15-17-46.mp4\" controls autoplay loop style=\"max-width: 75%;\"  >\n",
       "      Your browser does not support the <code>video</code> element.\n",
       "    </video>"
      ],
      "text/plain": [
       "<IPython.core.display.Video object>"
      ]
     },
     "metadata": {},
     "output_type": "display_data"
    }
   ],
   "source": [
    "%%manim -qm AlignToTest\n",
    "\n",
    "class AlignToTest(Scene):\n",
    "    def construct(self):\n",
    "        circleOne = Circle(radius = 2.4)\n",
    "        circleTwo = Circle(radius = 2.4)\n",
    "        circleThree = Circle(radius = 2.4)\n",
    "        circleFour = Circle(radius=3.8)\n",
    "        \n",
    "        circleOne.shift(LEFT, UP)\n",
    "        circleTwo.shift(DOWN*1.4)\n",
    "        circleThree.shift(RIGHT, UP)\n",
    "        \n",
    "        \n",
    "        \n",
    "\n",
    "\n",
    "        self.add(circleOne, circleTwo, circleThree, circleFour)\n",
    "        self.wait(1)\n",
    "        "
   ]
  },
  {
   "cell_type": "code",
   "execution_count": null,
   "id": "45118de9",
   "metadata": {},
   "outputs": [],
   "source": [
    "%%manim -qm AlignToTest\n",
    "\n",
    "class AlignToTest(Scene):\n",
    "    def \n",
    "    def construct(self):\n",
    "        circleOne = Circle()\n",
    "        circleTwo = Circle()\n",
    "        circleThree = Circle()\n",
    "        \n",
    "        circleOne.shift(LEFT)\n",
    "        circleTwo.shift(UP)\n",
    "        circleThree.shift(RIGHT)\n",
    "\n",
    "        self.add(circleOne, circleTwo, circleThree)\n",
    "        self.wait(1)\n",
    "        "
   ]
  },
  {
   "cell_type": "code",
   "execution_count": 25,
   "id": "60c2a124",
   "metadata": {},
   "outputs": [
    {
     "data": {
      "text/html": [
       "<video src=\"media/jupyter/AlignToTest@2022-03-17@15-10-36.mp4\" controls autoplay loop style=\"max-width: 75%;\"  >\n",
       "      Your browser does not support the <code>video</code> element.\n",
       "    </video>"
      ],
      "text/plain": [
       "<IPython.core.display.Video object>"
      ]
     },
     "metadata": {},
     "output_type": "display_data"
    }
   ],
   "source": [
    "%%manim -qm AlignToTest\n",
    "\n",
    "class AlignToTest(Scene):\n",
    "    def construct(self):\n",
    "        circleOne = Circle()\n",
    "        circleTwo = Circle()\n",
    "        circleThree = Circle()\n",
    "        circleFour = Circle(radius=3.8)\n",
    "        \n",
    "        self.add(circleOne, circleTwo, circleThree, circleFour)\n",
    "        self.wait(1)"
   ]
  },
  {
   "cell_type": "code",
   "execution_count": null,
   "id": "bc042127",
   "metadata": {},
   "outputs": [],
   "source": []
  }
 ],
 "metadata": {
  "kernelspec": {
   "display_name": "Python 3 (ipykernel)",
   "language": "python",
   "name": "python3"
  },
  "language_info": {
   "codemirror_mode": {
    "name": "ipython",
    "version": 3
   },
   "file_extension": ".py",
   "mimetype": "text/x-python",
   "name": "python",
   "nbconvert_exporter": "python",
   "pygments_lexer": "ipython3",
   "version": "3.9.7"
  }
 },
 "nbformat": 4,
 "nbformat_minor": 5
}
